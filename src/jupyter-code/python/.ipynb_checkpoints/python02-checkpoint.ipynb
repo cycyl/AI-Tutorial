{
 "cells": [
  {
   "cell_type": "code",
   "execution_count": 20,
   "metadata": {},
   "outputs": [
    {
     "name": "stdout",
     "output_type": "stream",
     "text": [
      "关键字列表： ['False', 'None', 'True', 'and', 'as', 'assert', 'async', 'await', 'break', 'class', 'continue', 'def', 'del', 'elif', 'else', 'except', 'finally', 'for', 'from', 'global', 'if', 'import', 'in', 'is', 'lambda', 'nonlocal', 'not', 'or', 'pass', 'raise', 'return', 'try', 'while', 'with', 'yield']\n",
      "关键字数量： 35\n"
     ]
    }
   ],
   "source": [
    "# 获取关键字\n",
    "import keyword\n",
    "print(\"关键字列表：\",keyword.kwlist)\n",
    "print(\"关键字数量：\",len(keyword.kwlist))"
   ]
  },
  {
   "cell_type": "code",
   "execution_count": 4,
   "metadata": {},
   "outputs": [
    {
     "name": "stdout",
     "output_type": "stream",
     "text": [
      "123 \n",
      " 321\t\\\n"
     ]
    }
   ],
   "source": [
    "# 转义字符串\n",
    "a=\"123 \\n 321\\t\\\\\"\n",
    "print(a)"
   ]
  },
  {
   "cell_type": "code",
   "execution_count": 21,
   "metadata": {},
   "outputs": [
    {
     "name": "stdout",
     "output_type": "stream",
     "text": [
      "三引号： test1\n",
      "test1\n",
      "反斜杠： test2 test2\n",
      "小括号： test3test3\n"
     ]
    }
   ],
   "source": [
    "# 换行字符串-方法1 三引号\n",
    "a1 = '''test1\n",
    "test1'''\n",
    "print(\"三引号：\",a1)\n",
    "\n",
    "# 换行字符串-方法2 反斜杠\n",
    "a2 = \"test2 \\\n",
    "test2\"\n",
    "print(\"反斜杠：\",a2)\n",
    "\n",
    "# 换行字符串-方法3 小括号\n",
    "a3 = ('test3'\n",
    "'test3')\n",
    "print(\"小括号：\",a3)"
   ]
  },
  {
   "cell_type": "code",
   "execution_count": 24,
   "metadata": {},
   "outputs": [
    {
     "name": "stdout",
     "output_type": "stream",
     "text": [
      "test\n"
     ]
    }
   ],
   "source": [
    "# 在 Python 3 中，非 ASCII 标识符也是允许的了。\n",
    "def 我():\n",
    "    print(\"test\")\n",
    "我()"
   ]
  },
  {
   "cell_type": "code",
   "execution_count": null,
   "metadata": {},
   "outputs": [],
   "source": []
  }
 ],
 "metadata": {
  "kernelspec": {
   "display_name": "Python 3",
   "language": "python",
   "name": "python3"
  },
  "language_info": {
   "codemirror_mode": {
    "name": "ipython",
    "version": 3
   },
   "file_extension": ".py",
   "mimetype": "text/x-python",
   "name": "python",
   "nbconvert_exporter": "python",
   "pygments_lexer": "ipython3",
   "version": "3.7.3"
  }
 },
 "nbformat": 4,
 "nbformat_minor": 2
}
